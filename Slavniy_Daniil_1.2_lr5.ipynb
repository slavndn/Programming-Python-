{
 "cells": [
  {
   "cell_type": "markdown",
   "metadata": {},
   "source": [
    "# Лабораторная работа №5\n",
    "## Славный Даниил Михайлович ИВТ-1.2 "
   ]
  },
  {
   "cell_type": "markdown",
   "metadata": {},
   "source": [
    "Задание 1.1 Создайте свой класс-итератор class RandomNumberIterator, который, в ходе итерирования по такому итератору, генерирует случайные числа в количестве и в диапазоне, которые передаются в конструктор в виде списка параметров."
   ]
  },
  {
   "cell_type": "code",
   "execution_count": 8,
   "metadata": {},
   "outputs": [
    {
     "name": "stdout",
     "output_type": "stream",
     "text": [
      "40\n",
      "41\n",
      "14\n",
      "88\n",
      "81\n",
      "28\n",
      "85\n",
      "45\n"
     ]
    }
   ],
   "source": [
    "import random\n",
    "\n",
    "class RandomNumberIterator:\n",
    "    def __init__(self, counter, start, end):\n",
    "        self.counter = counter\n",
    "        self.start = start\n",
    "        self.end = end\n",
    "\n",
    "    def __iter__(self):\n",
    "        self.current_count = 0\n",
    "        return self\n",
    "\n",
    "    def __next__(self):\n",
    "        if self.current_count < self.counter:\n",
    "            self.current_count += 1\n",
    "            return random.randint(self.start, self.end) \n",
    "        else:\n",
    "            raise StopIteration\n",
    "\n",
    "\n",
    "iterator = RandomNumberIterator(8, 7, 100)\n",
    "for number in iterator:\n",
    "    print(number)"
   ]
  },
  {
   "cell_type": "markdown",
   "metadata": {},
   "source": [
    "Задание 1.2 Решите задачу 1.1 уже с использованием генераторной функции, использующей ключевое слово yield. В качестве аргументов она должна принимать количество элементов и диапазон."
   ]
  },
  {
   "cell_type": "code",
   "execution_count": 9,
   "metadata": {},
   "outputs": [
    {
     "name": "stdout",
     "output_type": "stream",
     "text": [
      "97\n",
      "24\n",
      "33\n",
      "41\n",
      "9\n",
      "19\n",
      "95\n",
      "30\n"
     ]
    }
   ],
   "source": [
    "import random\n",
    "\n",
    "def random_number_generator(counter, min, max):\n",
    "    for i in range(counter):\n",
    "        yield random.randint(min, max)\n",
    "\n",
    "generator = random_number_generator(8, 7, 100)\n",
    "for number in generator:\n",
    "    print(number)"
   ]
  },
  {
   "cell_type": "markdown",
   "metadata": {},
   "source": [
    "Задание 1.3 Сделайте две функции-генератора. Первый генератор создаёт ряд Фибоначчи, а второй генератор добавляет значение 10 к каждому числу. Вызовете эти генераторы так, чтобы сгенерировать некоторое количество чисел Фибоначчи с добавлением числа 10 к каждому числу."
   ]
  },
  {
   "cell_type": "code",
   "execution_count": 10,
   "metadata": {},
   "outputs": [
    {
     "name": "stdout",
     "output_type": "stream",
     "text": [
      "10\n",
      "11\n",
      "11\n",
      "12\n",
      "13\n",
      "15\n",
      "18\n",
      "23\n",
      "31\n",
      "44\n"
     ]
    }
   ],
   "source": [
    "def fibonacci(n):\n",
    "  a, b = 0, 1\n",
    "  for i in range(n):\n",
    "    yield a\n",
    "    a, b = b, a + b\n",
    "\n",
    "def ten_fibonacci(generator):\n",
    "    for num in generator:\n",
    "        yield num + 10\n",
    "\n",
    "fibonacci = fibonacci(10) \n",
    "fibonacci_with_ten = ten_fibonacci(fibonacci)  \n",
    "\n",
    "for number in fibonacci_with_ten:\n",
    "    print(number)"
   ]
  },
  {
   "cell_type": "markdown",
   "metadata": {},
   "source": [
    "Задание 1.4 Напишите программу, на вход к которой подается список стран и городов для каждой страны. Затем по названиям городов из ещё одного списка выводится в какой стране расположен каждый город."
   ]
  },
  {
   "cell_type": "code",
   "execution_count": 3,
   "metadata": {},
   "outputs": [
    {
     "name": "stdout",
     "output_type": "stream",
     "text": [
      "\n",
      "\n",
      "Город Moscow находится в стране Russia\n"
     ]
    }
   ],
   "source": [
    "dict_country_city = {}\n",
    "\n",
    "number_of_countries = int(input('Введите количество стран:\\n'))\n",
    "for i in range(number_of_countries):\n",
    "    country, *cities = input(\"Введите: Страна + Пробел + Города:\\n\").split()\n",
    "\n",
    "    for city in cities:\n",
    "        dict_country_city[city] = country\n",
    "\n",
    "print('\\n')\n",
    "num_cities = int(input(\"Введите количество городов:\\n\"))\n",
    "for _ in range(num_cities):\n",
    "    city = input()\n",
    "    country = dict_country_city.get(city)\n",
    "    print(\"Город\", city, \"находится в стране\", country)"
   ]
  },
  {
   "cell_type": "markdown",
   "metadata": {},
   "source": [
    "Задание 2.1 Напишите класс менеджера контекста Timer, который умеет считать время в секундах, затраченное на некоторые вычисления внутри соответствующего блока with с помощью функции perf_counter модуля time. Используйте этот менеджер контекста для определения времени на вычисления достаточно большого количества чисел Фибоначчи (например миллиона) в цикле с помощью отдельной функциигенератора"
   ]
  },
  {
   "cell_type": "code",
   "execution_count": 4,
   "metadata": {},
   "outputs": [
    {
     "name": "stdout",
     "output_type": "stream",
     "text": [
      "Time elapsed: 7.765 seconds\n"
     ]
    }
   ],
   "source": [
    "class Timer:\n",
    "  import time\n",
    "\n",
    "  def __enter__(self):\n",
    "    self.start_time = self.time.perf_counter()\n",
    "    return self\n",
    "\n",
    "  def __exit__(self, exc_type, exc_value, traceback):\n",
    "    self.end_time = self.time.perf_counter()\n",
    "    elapsed_time = self.end_time - self.start_time\n",
    "    print(f\"Time elapsed: {round(elapsed_time, 3)} seconds\")\n",
    "\n",
    "\n",
    "def fibonacci_generator(n):\n",
    "  a, b = 0, 1\n",
    "  for _ in range(n):\n",
    "    yield a\n",
    "    a, b = b, a + b\n",
    "\n",
    "\n",
    "def main():\n",
    "  fib_count = 1000000\n",
    "  with Timer():\n",
    "    for fib_number in fibonacci_generator(fib_count):\n",
    "      pass\n",
    "\n",
    "\n",
    "if __name__ == \"__main__\":\n",
    "  main()\n"
   ]
  }
 ],
 "metadata": {
  "kernelspec": {
   "display_name": "Python 3",
   "language": "python",
   "name": "python3"
  },
  "language_info": {
   "codemirror_mode": {
    "name": "ipython",
    "version": 3
   },
   "file_extension": ".py",
   "mimetype": "text/x-python",
   "name": "python",
   "nbconvert_exporter": "python",
   "pygments_lexer": "ipython3",
   "version": "3.8.2"
  }
 },
 "nbformat": 4,
 "nbformat_minor": 2
}
